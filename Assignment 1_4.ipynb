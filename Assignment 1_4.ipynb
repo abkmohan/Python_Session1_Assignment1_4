{
 "cells": [
  {
   "cell_type": "code",
   "execution_count": 7,
   "metadata": {},
   "outputs": [
    {
     "name": "stdout",
     "output_type": "stream",
     "text": [
      "Volume of the Sphere is:  904.7786842338603\n"
     ]
    }
   ],
   "source": [
    "#Course: Data Science Masters\n",
    "#Title: Python - Session 1 - Assignment 1.4\n",
    "#Problem Statement: Python program to find the volume of a sphere with diameter 12 cm.\n",
    "#                   Formula: V=4/3 * π * r power 3.\n",
    "#Tool: Jupyter notebook \n",
    "#Author: Krishna A\n",
    "#Date: 5-2-2018 (DD/MM/YYYY)\n",
    "\n",
    "import math as m\n",
    "\n",
    "iDiameter = 12  #Diameter given as 12 cm in problem statement\n",
    "iPiValue = m.pi #Get pi value using math library\n",
    "iRadius = iDiameter*.5 #Radius is one-half the measure of the diameter\n",
    "\n",
    "#Calculate the volume of sphere using given formula - (V=4/3 * π * r power 3) \n",
    "print(\"Volume of the Sphere is: \", (4/3) * iPiValue * iRadius**3)"
   ]
  },
  {
   "cell_type": "code",
   "execution_count": null,
   "metadata": {
    "collapsed": true
   },
   "outputs": [],
   "source": []
  }
 ],
 "metadata": {
  "kernelspec": {
   "display_name": "Python 3",
   "language": "python",
   "name": "python3"
  },
  "language_info": {
   "codemirror_mode": {
    "name": "ipython",
    "version": 3
   },
   "file_extension": ".py",
   "mimetype": "text/x-python",
   "name": "python",
   "nbconvert_exporter": "python",
   "pygments_lexer": "ipython3",
   "version": "3.6.3"
  }
 },
 "nbformat": 4,
 "nbformat_minor": 2
}
